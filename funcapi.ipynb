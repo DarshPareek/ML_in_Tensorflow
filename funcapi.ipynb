{
 "cells": [
  {
   "cell_type": "code",
   "execution_count": 1,
   "metadata": {},
   "outputs": [],
   "source": [
    "import os\n",
    "os.environ['TF_CPP_MIN_LOG_LEVEL'] = '2'\n",
    "import tensorflow as tf \n",
    "from tensorflow import keras\n",
    "from tensorflow.keras import layers, regularizers\n",
    "from tensorflow.keras.datasets import mnist\n",
    "import pandas as pd \n",
    "BATCH_SIZE = 64\n",
    "WEIGHT_DECAY = 0.001\n",
    "LEARNING_RATE = 0.001\n"
   ]
  },
  {
   "cell_type": "code",
   "execution_count": 2,
   "metadata": {},
   "outputs": [],
   "source": [
    "train_df = pd.read_csv(\"train.csv\")\n",
    "test_df = pd.read_csv(\"test.csv\")\n",
    "train_images = os.getcwd() + \"/train_images/\" + train_df.iloc[:, 0].values\n",
    "test_images = os.getcwd() + \"/test_images/\" + test_df.iloc[:, 0].values\n",
    "\n",
    "train_labels = train_df.iloc[:, 1:].values\n",
    "test_labels = test_df.iloc[:, 1:].values\n",
    "\n",
    "\n",
    "def read_image(image_path, label):\n",
    "    image = tf.io.read_file(image_path)\n",
    "    image = tf.image.decode_image(image, channels=1, dtype=tf.float32)\n",
    "\n",
    "    # In older versions you need to set shape in order to avoid error\n",
    "    # on newer (2.3.0+) the following 3 lines can safely be removed\n",
    "    image.set_shape((64, 64, 1))\n",
    "    label[0].set_shape([])\n",
    "    label[1].set_shape([])\n",
    "\n",
    "    labels = {\"first_num\": label[0], \"second_num\": label[1]}\n",
    "    return image, labels\n",
    "AUTOTUNE = tf.data.experimental.AUTOTUNE\n",
    "train_dataset = tf.data.Dataset.from_tensor_slices((train_images, train_labels))\n",
    "train_dataset = (\n",
    "    train_dataset.shuffle(buffer_size=len(train_labels))\n",
    "    .map(read_image)\n",
    "    .batch(batch_size=BATCH_SIZE)\n",
    "    .prefetch(buffer_size=AUTOTUNE)\n",
    ")\n",
    "\n",
    "test_dataset = tf.data.Dataset.from_tensor_slices((test_images, test_labels))\n",
    "test_dataset = (\n",
    "    test_dataset.map(read_image)\n",
    "    .batch(batch_size=BATCH_SIZE)\n",
    "    .prefetch(buffer_size=AUTOTUNE)\n",
    ")"
   ]
  },
  {
   "cell_type": "code",
   "execution_count": 3,
   "metadata": {},
   "outputs": [],
   "source": [
    "inputs = keras.Input(shape = (64, 64, 1))\n",
    "x = layers.Conv2D(\n",
    "    filters = 32,\n",
    "    kernel_size = 3,\n",
    "    padding = 'same',\n",
    "    kernel_regularizer = keras.regularizers.l2(WEIGHT_DECAY),\n",
    ")(inputs)\n",
    "x = layers.BatchNormalization()(x)\n",
    "x = keras.activations.relu(x)\n",
    "x = layers.Conv2D(64, 3, kernel_regularizer = keras.regularizers.l2(WEIGHT_DECAY))(x)\n",
    "x = layers.BatchNormalization()(x)\n",
    "x = keras.activations.relu(x)\n",
    "x = layers.MaxPooling2D()(x)\n",
    "x = layers.Conv2D(64, 3, activation = 'relu', kernel_regularizer = keras.regularizers.l2(WEIGHT_DECAY))(x)\n",
    "x = layers.Conv2D(128, 3, activation = 'relu')(x)\n",
    "x = layers.MaxPooling2D()(x)\n",
    "x = layers.Flatten()(x)\n",
    "x = layers.Dense(128, activation = 'relu')(x)\n",
    "x = layers.Dropout(0.5)(x)\n",
    "x = layers.Dense(64, activation = 'relu')(x)\n",
    "output1 = layers.Dense(10, activation='softmax', name='first_num')(x)\n",
    "output2 = layers.Dense(10, activation='softmax', name='second_num')(x)"
   ]
  },
  {
   "cell_type": "code",
   "execution_count": 4,
   "metadata": {},
   "outputs": [],
   "source": [
    "model = keras.Model(inputs=inputs, outputs = [output1,output2])\n",
    "model.compile(\n",
    "    optimizer = keras.optimizers.Adam(LEARNING_RATE),\n",
    "    loss = [keras.losses.SparseCategoricalCrossentropy(),keras.losses.SparseCategoricalCrossentropy()],\n",
    "    metrics=[\"accuracy\"],\n",
    ")"
   ]
  },
  {
   "cell_type": "code",
   "execution_count": 5,
   "metadata": {},
   "outputs": [
    {
     "name": "stdout",
     "output_type": "stream",
     "text": [
      "Epoch 1/5\n",
      "1000/1000 - 32s - loss: 1.7899 - first_num_loss: 0.8577 - second_num_loss: 0.8516 - first_num_accuracy: 0.6981 - second_num_accuracy: 0.6994 - 32s/epoch - 32ms/step\n",
      "Epoch 2/5\n",
      "1000/1000 - 29s - loss: 0.4584 - first_num_loss: 0.2013 - second_num_loss: 0.1983 - first_num_accuracy: 0.9341 - second_num_accuracy: 0.9353 - 29s/epoch - 29ms/step\n",
      "Epoch 3/5\n",
      "1000/1000 - 29s - loss: 0.3118 - first_num_loss: 0.1306 - second_num_loss: 0.1308 - first_num_accuracy: 0.9584 - second_num_accuracy: 0.9586 - 29s/epoch - 29ms/step\n",
      "Epoch 4/5\n",
      "1000/1000 - 29s - loss: 0.2465 - first_num_loss: 0.1017 - second_num_loss: 0.0993 - first_num_accuracy: 0.9676 - second_num_accuracy: 0.9677 - 29s/epoch - 29ms/step\n",
      "Epoch 5/5\n",
      "1000/1000 - 29s - loss: 0.2137 - first_num_loss: 0.0859 - second_num_loss: 0.0848 - first_num_accuracy: 0.9723 - second_num_accuracy: 0.9726 - 29s/epoch - 29ms/step\n"
     ]
    },
    {
     "data": {
      "text/plain": [
       "<keras.src.callbacks.History at 0x7fe9fd578490>"
      ]
     },
     "execution_count": 5,
     "metadata": {},
     "output_type": "execute_result"
    }
   ],
   "source": [
    "model.fit(train_dataset, epochs=5, verbose=2)"
   ]
  },
  {
   "cell_type": "code",
   "execution_count": 6,
   "metadata": {},
   "outputs": [
    {
     "name": "stdout",
     "output_type": "stream",
     "text": [
      "313/313 - 4s - loss: 1.3248 - first_num_loss: 0.3530 - second_num_loss: 0.9298 - first_num_accuracy: 0.9015 - second_num_accuracy: 0.7739 - 4s/epoch - 12ms/step\n"
     ]
    },
    {
     "data": {
      "text/plain": [
       "[1.3248106241226196,\n",
       " 0.3530034124851227,\n",
       " 0.9298228621482849,\n",
       " 0.9015499949455261,\n",
       " 0.7738999724388123]"
      ]
     },
     "execution_count": 6,
     "metadata": {},
     "output_type": "execute_result"
    }
   ],
   "source": [
    "model.evaluate(test_dataset, verbose=2)"
   ]
  }
 ],
 "metadata": {
  "kernelspec": {
   "display_name": "tf",
   "language": "python",
   "name": "python3"
  },
  "language_info": {
   "codemirror_mode": {
    "name": "ipython",
    "version": 3
   },
   "file_extension": ".py",
   "mimetype": "text/x-python",
   "name": "python",
   "nbconvert_exporter": "python",
   "pygments_lexer": "ipython3",
   "version": "3.9.18"
  },
  "orig_nbformat": 4
 },
 "nbformat": 4,
 "nbformat_minor": 2
}
