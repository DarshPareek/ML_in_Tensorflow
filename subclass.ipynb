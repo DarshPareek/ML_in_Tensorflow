{
 "cells": [
  {
   "cell_type": "code",
   "execution_count": 1,
   "metadata": {},
   "outputs": [],
   "source": [
    "import os\n",
    "\n",
    "os.environ[\"TF_CPP_MIN_LOG_LEVEL\"] = \"2\"\n",
    "import tensorflow as tf\n",
    "from tensorflow import keras\n",
    "from tensorflow.keras import layers\n",
    "from tensorflow.keras.datasets import mnist\n",
    "\n",
    "\n",
    "(x_train, y_train), (x_test, y_test) = mnist.load_data()\n",
    "x_train = x_train.reshape(-1, 28, 28, 1).astype(\"float32\") / 255.0\n",
    "x_test = x_test.reshape(-1, 28, 28, 1).astype(\"float32\") / 255.0"
   ]
  },
  {
   "cell_type": "code",
   "execution_count": 2,
   "metadata": {},
   "outputs": [],
   "source": [
    "class CNNBlock(layers.Layer):\n",
    "    def __init__(self, out_channels, kernel_size=3):\n",
    "        super(CNNBlock, self).__init__()\n",
    "        self.conv = layers.Conv2D(out_channels, kernel_size, padding=\"same\")\n",
    "        self.bn = layers.BatchNormalization()\n",
    "\n",
    "    def call(self, input_tensor, training=False):\n",
    "        x = self.conv(input_tensor)\n",
    "        x = self.bn(x, training=training)\n",
    "        x = tf.nn.relu(x)\n",
    "        return x\n",
    "\n",
    "\n",
    "model = keras.Sequential(\n",
    "    [CNNBlock(32), CNNBlock(64), CNNBlock(128), layers.Flatten(), layers.Dense(10),]\n",
    ")"
   ]
  },
  {
   "cell_type": "code",
   "execution_count": 9,
   "metadata": {},
   "outputs": [],
   "source": [
    "class ResBlock(layers.Layer):\n",
    "    def __init__(self, channels):\n",
    "        super(ResBlock, self).__init__()\n",
    "        self.cnn1 = CNNBlock(channels[0])\n",
    "        self.cnn2 = CNNBlock(channels[1])\n",
    "        self.cnn3 = CNNBlock(channels[2])\n",
    "        self.pooling = layers.MaxPooling2D()\n",
    "        self.identity_mapping = layers.Conv2D(channels[1], 1, padding = 'same')\n",
    "    def call(self, input_tensor, training = False):\n",
    "        x = self.cnn1(input_tensor, training=training)\n",
    "        x = self.cnn2(x, training=training)\n",
    "        x = self.cnn3(x + self.identity_mapping(input_tensor), training=training)\n",
    "        return self.pooling(x)"
   ]
  },
  {
   "cell_type": "code",
   "execution_count": 11,
   "metadata": {},
   "outputs": [],
   "source": [
    "class ResNetLike(keras.Model):\n",
    "    def __init__(self, num_classes = 10):\n",
    "        super(ResNetLike, self).__init__()\n",
    "        self.block1 = ResBlock([32, 32, 64])\n",
    "        self.block2 = ResBlock([128, 128, 256])\n",
    "        self.block3 = ResBlock([128, 256, 512])\n",
    "        self.pool = layers.GlobalAveragePooling2D()\n",
    "        self.classifier = layers.Dense(num_classes)\n",
    "    def call(self, input_tensor, training = False):\n",
    "        x = self.block1(input_tensor, training = training)\n",
    "        x = self.block2(x, training=training)\n",
    "        x = self.block3(x, training=training)\n",
    "        x = self.pool(x)\n",
    "        return self.classifier(x)\n",
    "model = ResNetLike(num_classes=10)"
   ]
  },
  {
   "cell_type": "code",
   "execution_count": 12,
   "metadata": {},
   "outputs": [],
   "source": [
    "model.compile(\n",
    "    optimizer=keras.optimizers.Adam(),\n",
    "    loss = keras.losses.SparseCategoricalCrossentropy(from_logits=True),\n",
    "    metrics=['accuracy']\n",
    ")"
   ]
  },
  {
   "cell_type": "code",
   "execution_count": 14,
   "metadata": {},
   "outputs": [
    {
     "name": "stdout",
     "output_type": "stream",
     "text": [
      "Epoch 1/20\n",
      "938/938 - 26s - loss: 0.0092 - accuracy: 0.9969 - 26s/epoch - 28ms/step\n",
      "Epoch 2/20\n",
      "938/938 - 26s - loss: 0.0094 - accuracy: 0.9970 - 26s/epoch - 28ms/step\n",
      "Epoch 3/20\n",
      "938/938 - 26s - loss: 0.0087 - accuracy: 0.9972 - 26s/epoch - 28ms/step\n",
      "Epoch 4/20\n",
      "938/938 - 26s - loss: 0.0076 - accuracy: 0.9974 - 26s/epoch - 28ms/step\n",
      "Epoch 5/20\n",
      "938/938 - 26s - loss: 0.0048 - accuracy: 0.9986 - 26s/epoch - 28ms/step\n",
      "Epoch 6/20\n",
      "938/938 - 26s - loss: 0.0074 - accuracy: 0.9977 - 26s/epoch - 28ms/step\n",
      "Epoch 7/20\n",
      "938/938 - 26s - loss: 0.0057 - accuracy: 0.9979 - 26s/epoch - 28ms/step\n",
      "Epoch 8/20\n",
      "938/938 - 26s - loss: 0.0035 - accuracy: 0.9987 - 26s/epoch - 28ms/step\n",
      "Epoch 9/20\n",
      "938/938 - 26s - loss: 0.0049 - accuracy: 0.9983 - 26s/epoch - 28ms/step\n",
      "Epoch 10/20\n",
      "938/938 - 26s - loss: 0.0042 - accuracy: 0.9985 - 26s/epoch - 28ms/step\n",
      "Epoch 11/20\n",
      "938/938 - 26s - loss: 0.0048 - accuracy: 0.9984 - 26s/epoch - 28ms/step\n",
      "Epoch 12/20\n",
      "938/938 - 34s - loss: 0.0028 - accuracy: 0.9989 - 34s/epoch - 36ms/step\n",
      "Epoch 13/20\n",
      "938/938 - 37s - loss: 0.0056 - accuracy: 0.9984 - 37s/epoch - 40ms/step\n",
      "Epoch 14/20\n",
      "938/938 - 32s - loss: 0.0033 - accuracy: 0.9989 - 32s/epoch - 34ms/step\n",
      "Epoch 15/20\n",
      "938/938 - 29s - loss: 0.0036 - accuracy: 0.9988 - 29s/epoch - 31ms/step\n",
      "Epoch 16/20\n",
      "938/938 - 28s - loss: 0.0038 - accuracy: 0.9987 - 28s/epoch - 30ms/step\n",
      "Epoch 17/20\n",
      "938/938 - 28s - loss: 0.0026 - accuracy: 0.9993 - 28s/epoch - 30ms/step\n",
      "Epoch 18/20\n",
      "938/938 - 28s - loss: 0.0022 - accuracy: 0.9993 - 28s/epoch - 30ms/step\n",
      "Epoch 19/20\n",
      "938/938 - 28s - loss: 0.0030 - accuracy: 0.9990 - 28s/epoch - 30ms/step\n",
      "Epoch 20/20\n",
      "938/938 - 33s - loss: 0.0036 - accuracy: 0.9988 - 33s/epoch - 35ms/step\n"
     ]
    },
    {
     "data": {
      "text/plain": [
       "<keras.src.callbacks.History at 0x7f54cd70b790>"
      ]
     },
     "execution_count": 14,
     "metadata": {},
     "output_type": "execute_result"
    }
   ],
   "source": [
    "model.fit(x_train, y_train, batch_size=64, epochs=20, verbose=2)"
   ]
  },
  {
   "cell_type": "code",
   "execution_count": 15,
   "metadata": {},
   "outputs": [
    {
     "name": "stdout",
     "output_type": "stream",
     "text": [
      "157/157 - 4s - loss: 0.0238 - accuracy: 0.9948 - 4s/epoch - 26ms/step\n"
     ]
    },
    {
     "data": {
      "text/plain": [
       "[0.023771896958351135, 0.9947999715805054]"
      ]
     },
     "execution_count": 15,
     "metadata": {},
     "output_type": "execute_result"
    }
   ],
   "source": [
    "model.evaluate(x_test, y_test, batch_size=64, verbose=2)"
   ]
  }
 ],
 "metadata": {
  "kernelspec": {
   "display_name": "tf",
   "language": "python",
   "name": "python3"
  },
  "language_info": {
   "codemirror_mode": {
    "name": "ipython",
    "version": 3
   },
   "file_extension": ".py",
   "mimetype": "text/x-python",
   "name": "python",
   "nbconvert_exporter": "python",
   "pygments_lexer": "ipython3",
   "version": "3.9.17"
  },
  "orig_nbformat": 4
 },
 "nbformat": 4,
 "nbformat_minor": 2
}
